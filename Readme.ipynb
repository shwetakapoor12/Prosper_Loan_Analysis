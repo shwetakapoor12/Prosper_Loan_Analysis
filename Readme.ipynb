{
 "cells": [
  {
   "cell_type": "markdown",
   "metadata": {},
   "source": [
    "# Prosper Loan Data Analysis"
   ]
  },
  {
   "cell_type": "markdown",
   "metadata": {},
   "source": [
    "## Introduction"
   ]
  },
  {
   "cell_type": "markdown",
   "metadata": {},
   "source": [
    "This data set contains 113,937 loans with 81 variables on each loan, including loan amount, borrower rate (or interest rate), current loan status, borrower income, borrower employment status, borrower credit history, and the latest payment information.\n",
    "The dataset can be download here: https://www.google.com/url?q=https://s3.amazonaws.com/udacity-hosted-downloads/ud651/prosperLoanData.csv&sa=D&ust=1547358770029000"
   ]
  },
  {
   "cell_type": "markdown",
   "metadata": {},
   "source": [
    "## Variables Explored"
   ]
  },
  {
   "cell_type": "markdown",
   "metadata": {},
   "source": [
    "Term : Amount of month customers opted for loan\n",
    "\n",
    "LoanStatus : Current status of the loan like chargedoff, completed, defauted etc...\n",
    "\n",
    "LenderYield : The Lender yield on the loan. Lender yield is equal to the interest rate on the loan less the servicing fee.\n",
    "\n",
    "ProsperScore : Risk Factor score from 1 to 10. 10 being least risky\n",
    "\n",
    "BorrowerAPR : The Borrower's Annual Percentage Rate (APR) for the loan.\n",
    "\n",
    "BorrowerRate : The Borrower's interest rate for this loan.\n",
    "\n",
    "ListingCategory..numeric. : Prosper rating for borrowers in numbers\n",
    "\n",
    "EmploymentStatus : Current type of employment\n",
    "\n",
    "Occupation : Occupation of borrower at the time of listing\n",
    "\n",
    "EmploymentStatusDuration : How long the employee has been employed\n",
    "\n",
    "IsBorrowerHomeowner : Does the borrower owns house at the time of listing (True & False)\n",
    "\n",
    "ProsperRating..Alpha. : Prosper rating for borrowers in alphabets\n",
    "\n",
    "StatedMonthlyIncome : Monthly income of the borrower\n",
    "\n",
    "MonthlyLoanPayment : Monthly loan payment amount\n",
    "\n",
    "DebtToIncomeRatio : The debt to income ratio of the borrower at the time the credit profile was pulled.\n",
    "\n",
    "LoanOriginalAmount : Original amount of the loan\n",
    "\n",
    "LoanOriginationQuarter : Quarter of the month when loan was originated"
   ]
  },
  {
   "cell_type": "markdown",
   "metadata": {},
   "source": [
    "## Summary Findings\n"
   ]
  },
  {
   "cell_type": "markdown",
   "metadata": {},
   "source": [
    "After analyzing the variables across dataset, Borrower APR and Lender yield are directly positively correlated which is obvious as more the APR, more will be the interest and more will be lender's yield. However, CreditScoreRangeUpper and ProsperScore negatively correlated to BorrowerAPR. \n",
    "\n",
    "Scatter plot and Heatmap were also created to find out that ProsperScore and BorrowerAPR were negatively correlated as higher the prosper score lower will be the risk attached hence lower will be the APR and that further lowers down the yield.\n",
    "\n",
    "Multiple box plots were analyzed for variables Loan status, APR and Employment Status. We can very well see that for For each category of loan status, the lowest APR is for Employed and Full-time. Whereas highest APR is for Not employed. That means borrower APR is related to Employment status. More secure jobs get low APR and vice versa.\n",
    "\n"
   ]
  },
  {
   "cell_type": "code",
   "execution_count": null,
   "metadata": {},
   "outputs": [],
   "source": []
  }
 ],
 "metadata": {
  "kernelspec": {
   "display_name": "Python 3",
   "language": "python",
   "name": "python3"
  },
  "language_info": {
   "codemirror_mode": {
    "name": "ipython",
    "version": 3
   },
   "file_extension": ".py",
   "mimetype": "text/x-python",
   "name": "python",
   "nbconvert_exporter": "python",
   "pygments_lexer": "ipython3",
   "version": "3.6.8"
  }
 },
 "nbformat": 4,
 "nbformat_minor": 2
}
